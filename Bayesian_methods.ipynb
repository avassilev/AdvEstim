{
 "cells": [
  {
   "cell_type": "code",
   "execution_count": null,
   "metadata": {},
   "outputs": [],
   "source": [
    "import numpy as np\n",
    "import scipy as sp\n",
    "import scipy.stats\n",
    "import matplotlib.pyplot as plt\n",
    "from IPython.display import display, Math, Latex, HTML\n",
    "import ipywidgets as widgets\n",
    "from ipywidgets import interact, interactive, fixed"
   ]
  },
  {
   "cell_type": "code",
   "execution_count": null,
   "metadata": {},
   "outputs": [],
   "source": [
    "n = 20\n",
    "sigma = 4\n",
    "mu_x = 5\n",
    "x = sp.stats.norm(mu_x,sigma).rvs(size=n,random_state=15) # random_state ensures the same sample is generated\n",
    "plt.hist(x)\n",
    "plt.show()"
   ]
  },
  {
   "cell_type": "markdown",
   "metadata": {},
   "source": [
    "# Understanding the prior and the posterior"
   ]
  },
  {
   "cell_type": "code",
   "execution_count": null,
   "metadata": {},
   "outputs": [],
   "source": [
    "mu_hat = np.mean(x)\n",
    "\n",
    "mu_a = 4\n",
    "sigma_a = 2\n",
    "\n",
    "def ComputePosteriorParams(mu_hat,m_a,s_a):\n",
    "    h_0 = (sigma**2/n)**(-1)\n",
    "    h_a = (s_a**2)**(-1)\n",
    "    E_mu = (h_0*mu_hat + h_a*m_a)/(h_0 + h_a)\n",
    "    D_mu = 1/(h_0 + h_a)\n",
    "    return E_mu, D_mu\n",
    "\n",
    "def plotPriorPosterior(m_a,s_a):   \n",
    "    E_mu,D_mu = ComputePosteriorParams(mu_hat,m_a,s_a)\n",
    "    rng = np.arange(-10,15,0.01)\n",
    "    plt.plot(rng,sp.stats.norm(m_a,s_a).pdf(rng),'k',label=\"Prior\")\n",
    "    plt.plot(rng,sp.stats.norm(E_mu,np.sqrt(D_mu)).pdf(rng),'r',label=\"Posterior\")\n",
    "    plt.show()\n",
    "    \n",
    "wPP = interactive(plotPriorPosterior,\n",
    "                  m_a = widgets.FloatSlider(min=mu_x-10,max=mu_x+10,step=0.01,value = mu_a, description=\"$\\mu_a$\",continuous_update=False),\n",
    "                  s_a = widgets.FloatSlider(min=0.0001,max=10,step=0.01,value=sigma_a,description=\"$\\sigma_a$\",continuous_update=False))\n",
    "display(wPP)"
   ]
  },
  {
   "cell_type": "markdown",
   "metadata": {},
   "source": [
    "## Creating a random variable with the posterior distribution"
   ]
  },
  {
   "cell_type": "code",
   "execution_count": null,
   "metadata": {},
   "outputs": [],
   "source": [
    "PosteriorMean,PosteriorVariance = ComputePosteriorParams(mu_hat,mu_a,sigma_a)\n",
    "PosteriorStdev = np.sqrt(PosteriorVariance)\n",
    "PostMuRV = sp.stats.norm(loc=PosteriorMean,scale=PosteriorStdev)"
   ]
  },
  {
   "cell_type": "markdown",
   "metadata": {},
   "source": [
    "# Point estimates\n",
    "\n",
    "\"Traditional\" estimates like the mode and the median are easy in this case: they all coincide with the posterior mean."
   ]
  },
  {
   "cell_type": "code",
   "execution_count": null,
   "metadata": {},
   "outputs": [],
   "source": [
    "print(\"The posterior mean/mode/median is %4.2f.\"%(PosteriorMean))"
   ]
  },
  {
   "cell_type": "markdown",
   "metadata": {},
   "source": [
    "# Credible regions"
   ]
  },
  {
   "cell_type": "code",
   "execution_count": null,
   "metadata": {},
   "outputs": [],
   "source": [
    "ConfidenceLevel = 0.9\n",
    "\n",
    "# We can minimize the interval that has the specified probability ConfidenceLevel.\n",
    "# This shows the general approach to get the credible region.\n",
    "res = sp.optimize.minimize(lambda x:x[1]-x[0], \n",
    "                     np.array([PosteriorMean-2,PostMuRV.ppf(ConfidenceLevel-PostMuRV.cdf(PosteriorMean-2))]),\n",
    "                     constraints = {'type':'eq',\n",
    "                                    'fun': lambda x:PostMuRV.cdf(x[1])-PostMuRV.cdf(x[0])-ConfidenceLevel\n",
    "                                   })\n",
    "lower,upper = res.x\n",
    "\n",
    "# Or we can exploit the fact that in this case our posterior is normally distributed\n",
    "# and directly obtain the interval for the specified probability.\n",
    "lwr,upr = PostMuRV.interval(ConfidenceLevel)\n",
    "\n",
    "print(\"\"\"Computed with our numerical implementation, the %4.1f%% credible region is [%4.2f,%4.2f].\n",
    "Computed using SciPy's interval() method, the %4.1f%% credible region is [%4.2f,%4.2f].\"\"\"\n",
    "      %(ConfidenceLevel*100,lower,upper,ConfidenceLevel*100,lwr,upr))"
   ]
  },
  {
   "cell_type": "code",
   "execution_count": null,
   "metadata": {},
   "outputs": [],
   "source": [
    "rng = np.arange(PostMuRV.interval(.99)[0],PostMuRV.interval(.99)[1],0.01)\n",
    "plt.plot(rng,PostMuRV.pdf(rng),'r')\n",
    "plt.plot([lwr,lwr],[0,PostMuRV.pdf(lwr)],'k')\n",
    "plt.plot([upr,upr],[0,PostMuRV.pdf(upr)],'k')\n",
    "plt.plot([PosteriorMean,PosteriorMean],[0,PostMuRV.pdf(PosteriorMean)],'k',linewidth=2)\n",
    "plt.ylim(0,None)\n",
    "plt.show()"
   ]
  },
  {
   "cell_type": "markdown",
   "metadata": {},
   "source": [
    "# Hypothesis testing"
   ]
  },
  {
   "cell_type": "code",
   "execution_count": null,
   "metadata": {},
   "outputs": [],
   "source": [
    "from scipy.integrate import quad\n",
    "def MargLikFunc(x,sigma,m_a,s_a):\n",
    "    def integrand(mu):\n",
    "        return scipy.stats.multivariate_normal.pdf(x,mean=mu*np.ones(x.size),cov=sigma**2)*scipy.stats.norm.pdf(mu,m_a,s_a)\n",
    "    return quad(integrand,-100,100)[0]\n",
    "\n",
    "BayesFactor = MargLikFunc(x,sigma,mu_a,sigma_a)/MargLikFunc(x,sigma,10,sigma_a)\n",
    "print(BayesFactor)\n",
    "# print(1/BayesFactor)"
   ]
  }
 ],
 "metadata": {
  "kernelspec": {
   "display_name": "Python 3",
   "language": "python",
   "name": "python3"
  },
  "language_info": {
   "codemirror_mode": {
    "name": "ipython",
    "version": 3
   },
   "file_extension": ".py",
   "mimetype": "text/x-python",
   "name": "python",
   "nbconvert_exporter": "python",
   "pygments_lexer": "ipython3",
   "version": "3.6.3"
  },
  "widgets": {
   "state": {
    "88e2e1b0ad7746b6b7f403772b04ed53": {
     "views": [
      {
       "cell_index": 3
      }
     ]
    }
   },
   "version": "1.2.0"
  }
 },
 "nbformat": 4,
 "nbformat_minor": 1
}
